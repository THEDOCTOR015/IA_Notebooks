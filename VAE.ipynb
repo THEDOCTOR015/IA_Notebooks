{
 "cells": [
  {
   "cell_type": "markdown",
   "metadata": {},
   "source": [
    "### Imports"
   ]
  },
  {
   "cell_type": "code",
   "execution_count": null,
   "metadata": {},
   "outputs": [],
   "source": [
    "import tensorflow as tf\n",
    "from tensorflow.keras import layers, models\n",
    "from tensorflow.keras import backend as K\n",
    "from tensorflow.keras.losses import binary_crossentropy\n",
    "import numpy as np\n",
    "import matplotlib.pyplot as plt\n",
    "import random as r\n",
    "from sklearn.cluster import KMeans\n"
   ]
  },
  {
   "cell_type": "markdown",
   "metadata": {},
   "source": [
    "### Dataset"
   ]
  },
  {
   "cell_type": "code",
   "execution_count": 2,
   "metadata": {},
   "outputs": [],
   "source": [
    "# Chargement du jeu de données MNIST\n",
    "mnist = tf.keras.datasets.mnist\n",
    "split = 0.2\n",
    "kl_factor = 1e-3\n",
    "\n",
    "# Séparation des données en ensembles d'entraînement et de test\n",
    "(x_train, y_train), (x_test, y_test) = mnist.load_data()\n",
    "\n",
    "# Normalisation des valeurs des pixels pour qu'elles soient entre 0 et 1\n",
    "x_train, x_test = x_train / 255.0, x_test / 255.0\n",
    "\n",
    "x_train, x_val = x_train[int(len(x_train)*split):], x_train[:int(len(x_train)*split)]\n",
    "y_train, y_val = y_train[int(len(y_train)*split):], y_train[:int(len(y_train)*split)]\n"
   ]
  },
  {
   "cell_type": "markdown",
   "metadata": {},
   "source": [
    "### Modèle"
   ]
  },
  {
   "cell_type": "code",
   "execution_count": null,
   "metadata": {},
   "outputs": [],
   "source": [
    "# Encodeur\n",
    "def encoder_model():\n",
    "    # Échantillonnage de l'espace latent\n",
    "    def sampling(args):\n",
    "        z_mean, z_log_var = args\n",
    "        batch = tf.shape(z_mean)[0]\n",
    "        dim = tf.shape(z_mean)[1]\n",
    "        epsilon = tf.keras.backend.random_normal(shape=(batch, dim))\n",
    "        sample = z_mean + tf.exp(0.5 * z_log_var) * epsilon\n",
    "        return sample\n",
    "    \n",
    "    inputs = layers.Input(shape=(28, 28, 1))\n",
    "    x = layers.Conv2D(32, 3, activation='leaky_relu', strides=1, padding='same')(inputs)\n",
    "    x = layers.Conv2D(64, 3, activation='leaky_relu', strides=2, padding='same')(x)\n",
    "    x = layers.Conv2D(128, 3, activation='leaky_relu', strides=2, padding='same')(x)\n",
    "    x = layers.Conv2D(128, 3, activation='leaky_relu', strides=1, padding='same')(x)\n",
    "    x = layers.Flatten()(x)\n",
    "    x = layers.Dense(128, activation='leaky_relu')(x)\n",
    "    x = layers.BatchNormalization()(x)\n",
    "    z_mean = layers.Dense(2, name='z_mean')(x)\n",
    "    z_log_var = layers.Dense(2, name='z_log_var')(x)\n",
    "    z = layers.Lambda(sampling, output_shape=(2,), name='z')([z_mean, z_log_var])\n",
    "    return models.Model(inputs, [z_mean, z_log_var,z], name='encoder'), z_mean, z_log_var\n",
    "\n",
    "encoder, z_mean, z_log_var = encoder_model()\n",
    "\n",
    "# Décodeur\n",
    "def decoder_model():\n",
    "    latent_inputs = layers.Input(shape=(2,))\n",
    "    x = layers.Dense(7*7*64, activation='leaky_relu')(latent_inputs)\n",
    "    x = layers.BatchNormalization()(x)\n",
    "    x = layers.Reshape((7, 7, 64))(x)\n",
    "    x = layers.Conv2DTranspose(128, 3, activation='leaky_relu', strides=1, padding='same')(x)\n",
    "    x = layers.Conv2DTranspose(128, 3, activation='leaky_relu', strides=2, padding='same')(x)\n",
    "    x = layers.Conv2DTranspose(64, 3, activation='leaky_relu', strides=2, padding='same')(x)\n",
    "    x = layers.Conv2DTranspose(64, 3, activation='leaky_relu', strides=1, padding='same')(x)\n",
    "    x = layers.Conv2DTranspose(1, 3, activation='sigmoid', padding='same')(x)\n",
    "    # On supprime la dimension en trop a la fin\n",
    "    output = layers.Reshape((28, 28))(x)\n",
    "    return models.Model(latent_inputs, output, name='decoder')\n",
    "\n",
    "decoder = decoder_model()\n",
    "\n",
    "class VAE(tf.keras.Model):\n",
    "    def __init__(self, encoder, decoder, **kwargs):\n",
    "        super(VAE, self).__init__(**kwargs)\n",
    "        self.encoder = encoder\n",
    "        self.decoder = decoder\n",
    "        # Définir les métriques\n",
    "        self.total_loss_tracker = tf.keras.metrics.Mean(name=\"total_loss\")\n",
    "        self.reconstruction_loss_tracker = tf.keras.metrics.Mean(name=\"reconstruction_loss\")\n",
    "        self.kl_loss_tracker = tf.keras.metrics.Mean(name=\"kl_loss\")    \n",
    "\n",
    "    def call(self, inputs):\n",
    "        z_mean, z_log_var, z = self.encoder(inputs)\n",
    "        reconstructed = self.decoder(z)\n",
    "    \n",
    "        # Calcule la perte\n",
    "        reconstruction_loss, kl_loss, total_loss = vae_loss(inputs, reconstructed, z_mean, z_log_var)\n",
    "        \n",
    "        # Mise à jour des trackers de métrique\n",
    "        self.total_loss_tracker.update_state(total_loss)\n",
    "        self.reconstruction_loss_tracker.update_state(reconstruction_loss)\n",
    "        self.kl_loss_tracker.update_state(kl_loss)\n",
    "        \n",
    "        return reconstructed\n",
    "\n",
    "    def train_step(self, data):\n",
    "        x, y = data\n",
    "\n",
    "        with tf.GradientTape() as tape:\n",
    "            # Forward pass\n",
    "            z_mean, z_log_var, z = self.encoder(x, training=True)\n",
    "            reconstructed = self.decoder(z, training=True)\n",
    "            # Calcule la perte\n",
    "            reconstruction_loss, kl_loss, total_loss = vae_loss(x, reconstructed, z_mean, z_log_var)\n",
    "            # Backward pass\n",
    "            gradients = tape.gradient(total_loss, self.trainable_variables)\n",
    "            self.optimizer.apply_gradients(zip(gradients, self.trainable_variables))\n",
    "            # Mise à jour des trackers de métrique\n",
    "            self.total_loss_tracker.update_state(total_loss)\n",
    "            self.reconstruction_loss_tracker.update_state(reconstruction_loss)\n",
    "            self.kl_loss_tracker.update_state(kl_loss)\n",
    "\n",
    "        return {\n",
    "            \"loss\": self.total_loss_tracker.result(),\n",
    "            \"reconstruction_loss\": self.reconstruction_loss_tracker.result(),\n",
    "            \"kl_loss\": self.kl_loss_tracker.result()\n",
    "        }\n",
    "    \n",
    "    @property\n",
    "    def metrics(self):\n",
    "        return [self.total_loss_tracker, self.reconstruction_loss_tracker, self.kl_loss_tracker]\n",
    "\n",
    "def vae_loss(y, vae_output, z_mean, z_log_var):\n",
    "    reconstruction_loss = binary_crossentropy(y, vae_output)\n",
    "    reconstruction_loss = tf.reduce_mean(reconstruction_loss)\n",
    "    \n",
    "    # Divergence KL\n",
    "    kl_loss = -0.5 * tf.reduce_sum(1 + z_log_var - tf.square(z_mean) - tf.exp(z_log_var), axis=1)\n",
    "    kl_loss = tf.reduce_mean(kl_loss) * kl_factor\n",
    "    return reconstruction_loss, kl_loss, reconstruction_loss + kl_loss\n",
    "\n",
    "vae = VAE(encoder, decoder)\n",
    "# Astuce pour satisfaire l'API de Keras\n",
    "def zero_loss(y_true, y_pred):\n",
    "    return tf.constant(0.0)\n",
    "\n",
    "vae.compile(optimizer='adam', loss=zero_loss)\n",
    "vae.summary()"
   ]
  },
  {
   "cell_type": "markdown",
   "metadata": {},
   "source": [
    "### Entraînement"
   ]
  },
  {
   "cell_type": "code",
   "execution_count": null,
   "metadata": {},
   "outputs": [],
   "source": [
    "# Callback early stopping\n",
    "early_stopping = tf.keras.callbacks.EarlyStopping(monitor='val_total_loss', patience=1, mode='min', restore_best_weights=True, verbose=2)\n",
    "\n",
    "# Entraînement du VAE\n",
    "history = vae.fit(x_train, x_train, epochs=30, batch_size=64, callbacks=[early_stopping], validation_data=(x_val, x_val))"
   ]
  },
  {
   "cell_type": "markdown",
   "metadata": {},
   "source": [
    "### Résultats"
   ]
  },
  {
   "cell_type": "code",
   "execution_count": null,
   "metadata": {},
   "outputs": [],
   "source": [
    "# Affichage des courbes d'apprentissage, avec les différentes pertes\n",
    "plt.figure(figsize=(12, 6))\n",
    "plt.subplot(1, 2, 1)\n",
    "plt.plot(history.history['loss'], label='loss')\n",
    "plt.plot(history.history['reconstruction_loss'], label='reconstruction_loss')\n",
    "plt.plot(history.history['kl_loss'], label='kl_loss')\n",
    "plt.legend()\n",
    "plt.title('Training loss')\n",
    "plt.subplot(1, 2, 2)\n",
    "plt.plot(history.history['val_total_loss'], label='val_total_loss')\n",
    "plt.plot(history.history['val_reconstruction_loss'], label='val_reconstruction_loss')\n",
    "plt.plot(history.history['val_kl_loss'], label='val_kl_loss')\n",
    "plt.legend()\n",
    "plt.title('Validation loss')\n",
    "plt.show()"
   ]
  },
  {
   "cell_type": "markdown",
   "metadata": {},
   "source": [
    "### Test du VAE"
   ]
  },
  {
   "cell_type": "code",
   "execution_count": null,
   "metadata": {},
   "outputs": [],
   "source": [
    "random_input = False\n",
    "input_type = input(\"Quel ensemble d'image voulez-vous visualiser ? (train/val/test) : \")\n",
    "if input_type == \"val\":\n",
    "    # On choisit un échantillon aléatoire de l'ensemble de validation\n",
    "    idx = r.randint(0, len(x_val)) if random_input else 0\n",
    "    x_sample = x_val[idx]\n",
    "    x_sample = np.expand_dims(x_sample, axis=0)\n",
    "elif input_type == \"train\" or input_type == \"\":\n",
    "    # On choisit un échantillon aléatoire de l'ensemble d'entraînement\n",
    "    idx = r.randint(0, len(x_train)) if random_input else 0\n",
    "    x_sample = x_train[idx]\n",
    "    x_sample = np.expand_dims(x_sample, axis=0)\n",
    "elif input_type == \"test\":\n",
    "    # On choisit un échantillon aléatoire de l'ensemble de test\n",
    "    idx = r.randint(0, len(x_test)) if random_input else 0\n",
    "    x_sample = x_test[idx]\n",
    "    x_sample = np.expand_dims(x_sample, axis=0)\n",
    "else:\n",
    "    print(\"Choix invalide\")\n",
    "    exit()\n",
    "\n",
    "# On encode l'image\n",
    "z_mean, z_log_var, z = encoder.predict(x_sample, verbose=0)\n",
    "print(\"z_mean: \", z_mean)\n",
    "print(\"z_log_var: \", z_log_var)\n",
    "print(\"z: \", z)\n",
    "\n",
    "# On décode l'image\n",
    "x_reconstructed = decoder.predict(z, verbose=0)\n",
    "\n",
    "# Affichage de l'image originale et de l'image reconstruite\n",
    "plt.figure(figsize=(10, 5))\n",
    "plt.subplot(1, 2, 1)\n",
    "plt.title(\"Image originale\")\n",
    "plt.imshow(x_sample[0], cmap='gray')\n",
    "plt.axis('off')\n",
    "plt.subplot(1, 2, 2)\n",
    "plt.title(\"Image reconstruite\")\n",
    "plt.imshow(x_reconstructed[0], cmap='gray')\n",
    "plt.axis('off')\n",
    "plt.show()\n"
   ]
  },
  {
   "cell_type": "markdown",
   "metadata": {},
   "source": [
    "### Map du dataset\n",
    "Carte qui montre la distribution du dataset dans l'espace latent."
   ]
  },
  {
   "cell_type": "code",
   "execution_count": null,
   "metadata": {},
   "outputs": [],
   "source": [
    "x_train_encoded = encoder.predict(x_train)\n",
    "x_train_z_mean = x_train_encoded[0]\n",
    "x_train_z_log_var = x_train_encoded[1]\n",
    "x_train_z = x_train_encoded[2]\n",
    "# Plot de z_mean\n",
    "plt.figure(figsize=(10, 10))\n",
    "plt.scatter(x_train_z_mean[:, 0], x_train_z_mean[:, 1], c=y_train, cmap='viridis')\n",
    "plt.title('Projection des données MNIST dans l\\'espace latent (z_mean)')\n",
    "plt.colorbar()\n",
    "# Plot de z_log_var\n",
    "plt.figure(figsize=(10, 10))\n",
    "plt.scatter(x_train_z_log_var[:, 0], x_train_z_log_var[:, 1], c=y_train, cmap='viridis')\n",
    "plt.title('Projection des données MNIST dans l\\'espace latent (z_log_var)')\n",
    "plt.colorbar()\n",
    "# Plot de z\n",
    "plt.figure(figsize=(10, 10))\n",
    "plt.scatter(x_train_z[:, 0], x_train_z[:, 1], c=y_train, cmap='viridis')\n",
    "plt.title('Projection des données MNIST dans l\\'espace latent (z)')\n",
    "plt.colorbar()\n",
    "plt.show()\n"
   ]
  },
  {
   "cell_type": "markdown",
   "metadata": {},
   "source": [
    "### Identification de clusters\n",
    "Le but étant d'obtenir les means et les stds des clusters (classes) afin de les utiliser pour la génération de données."
   ]
  },
  {
   "cell_type": "markdown",
   "metadata": {},
   "source": [
    "#### K-means"
   ]
  },
  {
   "cell_type": "code",
   "execution_count": null,
   "metadata": {},
   "outputs": [],
   "source": [
    "\n",
    "kmeans = KMeans(n_clusters=10)\n",
    "kmeans.fit(x_train_z)\n",
    "\n",
    "# Récupérer les labels des clusters\n",
    "labels = kmeans.labels_\n",
    "\n",
    "# Afficher les clusters\n",
    "plt.figure(figsize=(10, 10))\n",
    "plt.scatter(x_train_z[:, 0], x_train_z[:, 1], c=labels, cmap='tab10')\n",
    "plt.title('K-means clustering des données MNIST dans l\\'espace latent (z)')\n",
    "plt.colorbar()\n",
    "plt.show()"
   ]
  },
  {
   "cell_type": "markdown",
   "metadata": {},
   "source": [
    "#### Moyenne des prédictions"
   ]
  },
  {
   "cell_type": "code",
   "execution_count": null,
   "metadata": {},
   "outputs": [],
   "source": [
    "# Initialiser des dictionnaires pour stocker les moyennes\n",
    "mean_z_mean = {}\n",
    "mean_z_log_var = {}\n",
    "\n",
    "# Calculer la moyenne pour chaque classe\n",
    "for digit in range(10):\n",
    "    indices = np.where(y_train == digit)\n",
    "    mean_z_mean[digit] = np.mean(x_train_z_mean[indices], axis=0)\n",
    "    mean_z_log_var[digit] = np.mean(x_train_z_log_var[indices], axis=0)\n",
    "\n",
    "# Afficher les moyennes\n",
    "print(\"Moyenne de z_mean pour chaque chiffre:\")\n",
    "for digit, mean in mean_z_mean.items():\n",
    "    print(f\"Chiffre {digit}: {mean}\")\n",
    "\n",
    "print(\"\\nMoyenne de z_log_var pour chaque chiffre:\")\n",
    "for digit, mean in mean_z_log_var.items():\n",
    "    print(f\"Chiffre {digit}: {mean}\")"
   ]
  }
 ],
 "metadata": {
  "kernelspec": {
   "display_name": "Python 3",
   "language": "python",
   "name": "python3"
  },
  "language_info": {
   "codemirror_mode": {
    "name": "ipython",
    "version": 3
   },
   "file_extension": ".py",
   "mimetype": "text/x-python",
   "name": "python",
   "nbconvert_exporter": "python",
   "pygments_lexer": "ipython3",
   "version": "3.12.3"
  }
 },
 "nbformat": 4,
 "nbformat_minor": 2
}
